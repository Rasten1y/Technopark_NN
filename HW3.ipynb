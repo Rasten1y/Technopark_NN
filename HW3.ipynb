{
 "cells": [
  {
   "cell_type": "markdown",
   "id": "YfPhAJr3jOkh",
   "metadata": {
    "id": "YfPhAJr3jOkh"
   },
   "source": [
    "# HW 2"
   ]
  },
  {
   "cell_type": "code",
   "execution_count": 16,
   "id": "e9a0adaf-214e-4dff-a5de-d9abcbb24ab6",
   "metadata": {},
   "outputs": [],
   "source": [
    "import matplotlib.pyplot as plt\n",
    "import numpy as np\n",
    "import torch\n",
    "import torch.nn.functional as F\n",
    "import torchvision\n",
    "import os\n",
    "from torch import nn\n",
    "from tqdm import tqdm"
   ]
  },
  {
   "cell_type": "code",
   "execution_count": 17,
   "id": "265019a4-8130-4b25-bd0e-6cb689094d27",
   "metadata": {},
   "outputs": [],
   "source": [
    "transform = torchvision.transforms.Compose(\n",
    "    [\n",
    "        torchvision.transforms.ToTensor(),\n",
    "        torchvision.transforms.Normalize((0.1307,), (0.3081,))\n",
    "    ]\n",
    ")"
   ]
  },
  {
   "cell_type": "code",
   "execution_count": 18,
   "id": "1f1fcdac-cd8c-4853-8c91-5d9e0981a85a",
   "metadata": {},
   "outputs": [],
   "source": [
    "def seed_everything(seed):\n",
    "    os.environ['PYTHONHASHSEED'] = str(seed)\n",
    "    np.random.seed(seed)\n",
    "    torch.manual_seed(seed)\n",
    "    torch.backends.cudnn.deterministic = True\n",
    "    torch.backends.cudnn.benchmark = False"
   ]
  },
  {
   "cell_type": "code",
   "execution_count": 28,
   "id": "da3e30e7-754a-4b2c-b6a6-c91d47f7cb28",
   "metadata": {},
   "outputs": [
    {
     "name": "stderr",
     "output_type": "stream",
     "text": [
      "100%|██████████████████████████████████████████████████████████████████████████████████████████████████████████| 1.65M/1.65M [00:02<00:00, 662kB/s]\n",
      "100%|█████████████████████████████████████████████████████████████████████████████████████████████████████████| 4.54k/4.54k [00:00<00:00, 1.05MB/s]\n"
     ]
    }
   ],
   "source": [
    "seed_everything(42)\n",
    "\n",
    "mnist_train = torchvision.datasets.MNIST(\n",
    "    './mnist/',\n",
    "    train=True,\n",
    "    download=True,\n",
    "    transform=transform\n",
    ")\n",
    "\n",
    "mnist_val = torchvision.datasets.MNIST(\n",
    "    './mnist/',\n",
    "    train=False,\n",
    "    download=True,\n",
    "    transform=transform\n",
    ")\n",
    "\n",
    "train_dataloader = torch.utils.data.DataLoader(mnist_train, batch_size=64, shuffle=True)\n",
    "val_dataloader = torch.utils.data.DataLoader(mnist_val, batch_size=64, shuffle=True)"
   ]
  },
  {
   "cell_type": "code",
   "execution_count": 29,
   "id": "a3aafcef-9446-4e61-b390-bbad379290c6",
   "metadata": {},
   "outputs": [
    {
     "data": {
      "text/plain": [
       "<matplotlib.image.AxesImage at 0x1959ac26810>"
      ]
     },
     "execution_count": 29,
     "metadata": {},
     "output_type": "execute_result"
    },
    {
     "data": {
      "image/png": "[encoded data removed]",
      "text/plain": [
       "<Figure size 640x480 with 1 Axes>"
      ]
     },
     "metadata": {},
     "output_type": "display_data"
    }
   ],
   "source": [
    "plt.imshow(mnist_train[0][0].squeeze(0).numpy().reshape([28, 28]))"
   ]
  },
  {
   "cell_type": "code",
   "execution_count": 30,
   "id": "33fd237d-2bb2-4d7f-9988-e994de30f958",
   "metadata": {},
   "outputs": [],
   "source": [
    "model = nn.Sequential(\n",
    "    nn.Flatten(),\n",
    "    nn.Linear(28*28, 128),\n",
    "    nn.ReLU(),\n",
    "    nn.Linear(128, 10)\n",
    ")\n",
    "\n",
    "optimizer = torch.optim.Adam(model.parameters(), lr=0.001)"
   ]
  },
  {
   "cell_type": "code",
   "execution_count": 47,
   "id": "c1a9ccfa-4ab7-42c2-ae29-282b23566d68",
   "metadata": {},
   "outputs": [],
   "source": [
    "def train(model, optimizer, n_epochs=5):\n",
    "    for epoch in range(n_epochs):\n",
    "\n",
    "        # обучение\n",
    "        for x_train, y_train in tqdm(train_dataloader):\n",
    "            y_onehot = F.one_hot(y_train, num_classes=10).float()\n",
    "            y_pred = F.softmax(model(x_train), dim=1)\n",
    "            loss = torch.nn.MSELoss()(y_pred, y_onehot)\n",
    "            loss.backward()\n",
    "            optimizer.step()\n",
    "            optimizer.zero_grad()\n",
    "\n",
    "        # валидация\n",
    "        if epoch % 2 == 0:\n",
    "            val_loss = []\n",
    "            val_accuracy = []\n",
    "            with torch.no_grad():\n",
    "                for x_val, y_val in tqdm(val_dataloader):\n",
    "                    y_onehot = F.one_hot(y_val, num_classes=10).float()\n",
    "                    y_pred = F.softmax(model(x_val), dim=1)\n",
    "                    loss = torch.nn.MSELoss()(y_pred, y_onehot)\n",
    "                    val_loss.append(loss.numpy())\n",
    "                    val_accuracy.extend((torch.argmax(y_pred, dim=-1) == y_val).numpy().tolist())\n",
    "\n",
    "            print(f'Epoch: {epoch}, loss: {np.mean(val_loss)}, accuracy: {np.mean(val_accuracy)}')"
   ]
  },
  {
   "cell_type": "code",
   "execution_count": 48,
   "id": "5a6fcf03-7b8b-4f1f-a71e-c653c7ad4b33",
   "metadata": {},
   "outputs": [
    {
     "name": "stderr",
     "output_type": "stream",
     "text": [
      "100%|████████████████████████████████████████████████████████████████████████████████████████████████████████████| 938/938 [00:11<00:00, 79.99it/s]\n",
      "100%|████████████████████████████████████████████████████████████████████████████████████████████████████████████| 157/157 [00:01<00:00, 90.89it/s]\n"
     ]
    },
    {
     "name": "stdout",
     "output_type": "stream",
     "text": [
      "Epoch: 0, loss: 0.002815026557072997, accuracy: 0.9817\n"
     ]
    },
    {
     "name": "stderr",
     "output_type": "stream",
     "text": [
      "100%|████████████████████████████████████████████████████████████████████████████████████████████████████████████| 938/938 [00:11<00:00, 81.30it/s]\n",
      "100%|████████████████████████████████████████████████████████████████████████████████████████████████████████████| 938/938 [00:11<00:00, 82.02it/s]\n",
      "100%|████████████████████████████████████████████████████████████████████████████████████████████████████████████| 157/157 [00:01<00:00, 91.19it/s]\n"
     ]
    },
    {
     "name": "stdout",
     "output_type": "stream",
     "text": [
      "Epoch: 2, loss: 0.00284666009247303, accuracy: 0.9816\n"
     ]
    },
    {
     "name": "stderr",
     "output_type": "stream",
     "text": [
      "100%|████████████████████████████████████████████████████████████████████████████████████████████████████████████| 938/938 [00:11<00:00, 80.19it/s]\n",
      "100%|████████████████████████████████████████████████████████████████████████████████████████████████████████████| 938/938 [00:11<00:00, 82.55it/s]\n",
      "100%|████████████████████████████████████████████████████████████████████████████████████████████████████████████| 157/157 [00:01<00:00, 90.59it/s]"
     ]
    },
    {
     "name": "stdout",
     "output_type": "stream",
     "text": [
      "Epoch: 4, loss: 0.003339465707540512, accuracy: 0.978\n"
     ]
    },
    {
     "name": "stderr",
     "output_type": "stream",
     "text": [
      "\n"
     ]
    }
   ],
   "source": [
    "train(model, optimizer)"
   ]
  },
  {
   "cell_type": "code",
   "execution_count": 49,
   "id": "6664b3df-4e2b-485c-9971-83f6a684eedf",
   "metadata": {},
   "outputs": [],
   "source": [
    "model = nn.Sequential(\n",
    "    nn.Conv2d(in_channels=1, out_channels=10, kernel_size=5),  # grayscale\n",
    "    nn.ReLU(),\n",
    "    nn.MaxPool2d(kernel_size=4),   # сократим изображение в 4 раза по каждой из сторон\n",
    "    nn.Flatten(),\n",
    "    nn.Linear(6*6*10, 128),\n",
    "    nn.ReLU(),\n",
    "    nn.Linear(128, 10)\n",
    ")\n",
    "\n",
    "optimizer = torch.optim.Adam(model.parameters(), lr=0.001)"
   ]
  },
  {
   "cell_type": "code",
   "execution_count": 50,
   "id": "7fda7db6-5372-4664-a295-455e6bf8b4ed",
   "metadata": {},
   "outputs": [
    {
     "name": "stderr",
     "output_type": "stream",
     "text": [
      "100%|████████████████████████████████████████████████████████████████████████████████████████████████████████████| 938/938 [00:14<00:00, 62.72it/s]\n",
      "100%|████████████████████████████████████████████████████████████████████████████████████████████████████████████| 157/157 [00:02<00:00, 72.83it/s]\n"
     ]
    },
    {
     "name": "stdout",
     "output_type": "stream",
     "text": [
      "Epoch: 0, loss: 0.004356592893600464, accuracy: 0.9719\n"
     ]
    },
    {
     "name": "stderr",
     "output_type": "stream",
     "text": [
      "100%|████████████████████████████████████████████████████████████████████████████████████████████████████████████| 938/938 [00:14<00:00, 65.32it/s]\n",
      "100%|████████████████████████████████████████████████████████████████████████████████████████████████████████████| 938/938 [00:14<00:00, 62.54it/s]\n",
      "100%|████████████████████████████████████████████████████████████████████████████████████████████████████████████| 157/157 [00:02<00:00, 76.92it/s]\n"
     ]
    },
    {
     "name": "stdout",
     "output_type": "stream",
     "text": [
      "Epoch: 2, loss: 0.002654194599017501, accuracy: 0.9827\n"
     ]
    },
    {
     "name": "stderr",
     "output_type": "stream",
     "text": [
      "100%|████████████████████████████████████████████████████████████████████████████████████████████████████████████| 938/938 [00:14<00:00, 63.39it/s]\n",
      "100%|████████████████████████████████████████████████████████████████████████████████████████████████████████████| 938/938 [00:15<00:00, 62.04it/s]\n",
      "100%|████████████████████████████████████████████████████████████████████████████████████████████████████████████| 157/157 [00:02<00:00, 68.78it/s]"
     ]
    },
    {
     "name": "stdout",
     "output_type": "stream",
     "text": [
      "Epoch: 4, loss: 0.002233042847365141, accuracy: 0.9854\n"
     ]
    },
    {
     "name": "stderr",
     "output_type": "stream",
     "text": [
      "\n"
     ]
    }
   ],
   "source": [
    "train(model, optimizer)"
   ]
  },
  {
   "cell_type": "code",
   "execution_count": 51,
   "id": "bda6a248-fa68-4aab-a943-a9ba715b97e3",
   "metadata": {},
   "outputs": [
    {
     "data": {
      "text/plain": [
       "0.9854"
      ]
     },
     "execution_count": 51,
     "metadata": {},
     "output_type": "execute_result"
    }
   ],
   "source": [
    "0.9854 # Для сокращения в 4 раза"
   ]
  },
  {
   "cell_type": "code",
   "execution_count": 58,
   "id": "706bb2f1-9f07-49dc-8831-4d247de1659d",
   "metadata": {},
   "outputs": [
    {
     "data": {
      "text/plain": [
       "0.985"
      ]
     },
     "execution_count": 58,
     "metadata": {},
     "output_type": "execute_result"
    }
   ],
   "source": [
    "0.985 # Для сокращения в 6 раз"
   ]
  },
  {
   "cell_type": "code",
   "execution_count": 61,
   "id": "80a9a9ee-6560-4e3f-a8f2-a9be6b7fd4db",
   "metadata": {},
   "outputs": [
    {
     "data": {
      "text/plain": [
       "0.9836"
      ]
     },
     "execution_count": 61,
     "metadata": {},
     "output_type": "execute_result"
    }
   ],
   "source": [
    "0.9836 # Для сокращения в 2 раза"
   ]
  },
  {
   "cell_type": "code",
   "execution_count": 68,
   "id": "0c16d53f-a2a6-4512-8768-a624407b47ec",
   "metadata": {},
   "outputs": [],
   "source": [
    "model = nn.Sequential(\n",
    "    nn.Conv2d(in_channels=1, out_channels=12, kernel_size=5),  # grayscale\n",
    "    nn.ReLU(),\n",
    "    nn.MaxPool2d(kernel_size=4),   # сократим изображение в 4 раза по каждой из сторон\n",
    "    nn.Flatten(),\n",
    "    nn.Linear(6*6*12, 128),\n",
    "    nn.ReLU(),\n",
    "    nn.Linear(128, 10)\n",
    ")\n",
    "\n",
    "optimizer = torch.optim.Adam(model.parameters(), lr=0.001)"
   ]
  },
  {
   "cell_type": "code",
   "execution_count": 69,
   "id": "98a393c5-980c-4cc0-9730-8dd4a7a18453",
   "metadata": {},
   "outputs": [
    {
     "name": "stderr",
     "output_type": "stream",
     "text": [
      "100%|████████████████████████████████████████████████████████████████████████████████████████████████████████████| 938/938 [00:16<00:00, 57.43it/s]\n",
      "100%|████████████████████████████████████████████████████████████████████████████████████████████████████████████| 157/157 [00:02<00:00, 69.88it/s]\n"
     ]
    },
    {
     "name": "stdout",
     "output_type": "stream",
     "text": [
      "Epoch: 0, loss: 0.004371624905616045, accuracy: 0.9726\n"
     ]
    },
    {
     "name": "stderr",
     "output_type": "stream",
     "text": [
      "100%|████████████████████████████████████████████████████████████████████████████████████████████████████████████| 938/938 [00:16<00:00, 58.44it/s]\n",
      "100%|████████████████████████████████████████████████████████████████████████████████████████████████████████████| 938/938 [00:16<00:00, 56.39it/s]\n",
      "100%|████████████████████████████████████████████████████████████████████████████████████████████████████████████| 157/157 [00:02<00:00, 71.43it/s]\n"
     ]
    },
    {
     "name": "stdout",
     "output_type": "stream",
     "text": [
      "Epoch: 2, loss: 0.003570354776456952, accuracy: 0.9763\n"
     ]
    },
    {
     "name": "stderr",
     "output_type": "stream",
     "text": [
      "100%|████████████████████████████████████████████████████████████████████████████████████████████████████████████| 938/938 [00:16<00:00, 57.42it/s]\n",
      "100%|████████████████████████████████████████████████████████████████████████████████████████████████████████████| 938/938 [00:15<00:00, 58.74it/s]\n",
      "100%|████████████████████████████████████████████████████████████████████████████████████████████████████████████| 157/157 [00:02<00:00, 71.88it/s]"
     ]
    },
    {
     "name": "stdout",
     "output_type": "stream",
     "text": [
      "Epoch: 4, loss: 0.0025244352873414755, accuracy: 0.9832\n"
     ]
    },
    {
     "name": "stderr",
     "output_type": "stream",
     "text": [
      "\n"
     ]
    }
   ],
   "source": [
    "train(model, optimizer)"
   ]
  },
  {
   "cell_type": "code",
   "execution_count": 74,
   "id": "9c2c7a22-9666-42ec-871f-0c4f3e3967f2",
   "metadata": {},
   "outputs": [
    {
     "data": {
      "text/plain": [
       "0.9832"
      ]
     },
     "execution_count": 74,
     "metadata": {},
     "output_type": "execute_result"
    }
   ],
   "source": [
    "0.9832 # Для out_channels=12"
   ]
  },
  {
   "cell_type": "code",
   "execution_count": 76,
   "id": "0a55198d-099e-4a07-ae3d-de46b7e9029f",
   "metadata": {},
   "outputs": [
    {
     "data": {
      "text/plain": [
       "0.9854"
      ]
     },
     "execution_count": 76,
     "metadata": {},
     "output_type": "execute_result"
    }
   ],
   "source": [
    "0.9854 # Для out_channels=10"
   ]
  },
  {
   "cell_type": "code",
   "execution_count": 77,
   "id": "afece0c0-c987-45a9-b315-98f7b2e41074",
   "metadata": {},
   "outputs": [
    {
     "data": {
      "text/plain": [
       "0.9826"
      ]
     },
     "execution_count": 77,
     "metadata": {},
     "output_type": "execute_result"
    }
   ],
   "source": [
    "0.9826 # Для out_channels=8"
   ]
  },
  {
   "cell_type": "code",
   "execution_count": 78,
   "id": "3e9bebc1-7499-42c9-b2cb-bbc1df18cc19",
   "metadata": {},
   "outputs": [],
   "source": [
    "model = nn.Sequential(\n",
    "    nn.Conv2d(in_channels=1, out_channels=10, kernel_size=4),  # grayscale\n",
    "    nn.ReLU(),\n",
    "    nn.MaxPool2d(kernel_size=5),   # сократим изображение в 5 раз по каждой из сторон\n",
    "    nn.Flatten(),\n",
    "    nn.Linear(5*5*10, 128),\n",
    "    nn.ReLU(),\n",
    "    nn.Linear(128, 10)\n",
    ")\n",
    "\n",
    "optimizer = torch.optim.Adam(model.parameters(), lr=0.001)"
   ]
  },
  {
   "cell_type": "code",
   "execution_count": 79,
   "id": "0b8675a0-432a-4b2d-8d28-d1be48e5306e",
   "metadata": {},
   "outputs": [
    {
     "name": "stderr",
     "output_type": "stream",
     "text": [
      "100%|████████████████████████████████████████████████████████████████████████████████████████████████████████████| 938/938 [00:18<00:00, 50.63it/s]\n",
      "100%|████████████████████████████████████████████████████████████████████████████████████████████████████████████| 157/157 [00:02<00:00, 59.29it/s]\n"
     ]
    },
    {
     "name": "stdout",
     "output_type": "stream",
     "text": [
      "Epoch: 0, loss: 0.005020000506192446, accuracy: 0.9683\n"
     ]
    },
    {
     "name": "stderr",
     "output_type": "stream",
     "text": [
      "100%|████████████████████████████████████████████████████████████████████████████████████████████████████████████| 938/938 [00:17<00:00, 53.02it/s]\n",
      "100%|████████████████████████████████████████████████████████████████████████████████████████████████████████████| 938/938 [00:17<00:00, 52.62it/s]\n",
      "100%|████████████████████████████████████████████████████████████████████████████████████████████████████████████| 157/157 [00:02<00:00, 61.40it/s]\n"
     ]
    },
    {
     "name": "stdout",
     "output_type": "stream",
     "text": [
      "Epoch: 2, loss: 0.0029602719005197287, accuracy: 0.9804\n"
     ]
    },
    {
     "name": "stderr",
     "output_type": "stream",
     "text": [
      "100%|████████████████████████████████████████████████████████████████████████████████████████████████████████████| 938/938 [00:18<00:00, 51.14it/s]\n",
      "100%|████████████████████████████████████████████████████████████████████████████████████████████████████████████| 938/938 [00:18<00:00, 50.01it/s]\n",
      "100%|████████████████████████████████████████████████████████████████████████████████████████████████████████████| 157/157 [00:02<00:00, 60.38it/s]"
     ]
    },
    {
     "name": "stdout",
     "output_type": "stream",
     "text": [
      "Epoch: 4, loss: 0.003244672669097781, accuracy: 0.9778\n"
     ]
    },
    {
     "name": "stderr",
     "output_type": "stream",
     "text": [
      "\n"
     ]
    }
   ],
   "source": [
    "train(model, optimizer)"
   ]
  },
  {
   "cell_type": "code",
   "execution_count": null,
   "id": "ed36931d-e5c3-4c69-9a0f-bf42fb29b381",
   "metadata": {},
   "outputs": [],
   "source": [
    "0.9778 # Для kernel_size=4"
   ]
  },
  {
   "cell_type": "code",
   "execution_count": 81,
   "id": "94db1878-4341-4756-b546-70f365fa0d51",
   "metadata": {},
   "outputs": [],
   "source": [
    "model = nn.Sequential(\n",
    "    nn.Conv2d(in_channels=1, out_channels=10, kernel_size=8),  # grayscale\n",
    "    nn.ReLU(),\n",
    "    nn.MaxPool2d(kernel_size=4),   # сократим изображение в 4 разa по каждой из сторон\n",
    "    nn.Flatten(),\n",
    "    nn.Linear(5*5*10, 128),\n",
    "    nn.ReLU(),\n",
    "    nn.Linear(128, 10)\n",
    ")\n",
    "\n",
    "optimizer = torch.optim.Adam(model.parameters(), lr=0.001)"
   ]
  },
  {
   "cell_type": "code",
   "execution_count": 82,
   "id": "d692f07a-6e06-42b7-afd3-d126968f2bbb",
   "metadata": {},
   "outputs": [
    {
     "name": "stderr",
     "output_type": "stream",
     "text": [
      "100%|████████████████████████████████████████████████████████████████████████████████████████████████████████████| 938/938 [00:17<00:00, 52.15it/s]\n",
      "100%|████████████████████████████████████████████████████████████████████████████████████████████████████████████| 157/157 [00:02<00:00, 60.21it/s]\n"
     ]
    },
    {
     "name": "stdout",
     "output_type": "stream",
     "text": [
      "Epoch: 0, loss: 0.004634436219930649, accuracy: 0.9699\n"
     ]
    },
    {
     "name": "stderr",
     "output_type": "stream",
     "text": [
      "100%|████████████████████████████████████████████████████████████████████████████████████████████████████████████| 938/938 [00:18<00:00, 51.73it/s]\n",
      "100%|████████████████████████████████████████████████████████████████████████████████████████████████████████████| 938/938 [00:18<00:00, 50.48it/s]\n",
      "100%|████████████████████████████████████████████████████████████████████████████████████████████████████████████| 157/157 [00:02<00:00, 64.65it/s]\n"
     ]
    },
    {
     "name": "stdout",
     "output_type": "stream",
     "text": [
      "Epoch: 2, loss: 0.0024389990139752626, accuracy: 0.9839\n"
     ]
    },
    {
     "name": "stderr",
     "output_type": "stream",
     "text": [
      "100%|████████████████████████████████████████████████████████████████████████████████████████████████████████████| 938/938 [00:19<00:00, 48.18it/s]\n",
      "100%|████████████████████████████████████████████████████████████████████████████████████████████████████████████| 938/938 [00:17<00:00, 52.93it/s]\n",
      "100%|████████████████████████████████████████████████████████████████████████████████████████████████████████████| 157/157 [00:02<00:00, 60.92it/s]"
     ]
    },
    {
     "name": "stdout",
     "output_type": "stream",
     "text": [
      "Epoch: 4, loss: 0.0020908399019390345, accuracy: 0.9871\n"
     ]
    },
    {
     "name": "stderr",
     "output_type": "stream",
     "text": [
      "\n"
     ]
    }
   ],
   "source": [
    "train(model, optimizer)"
   ]
  },
  {
   "cell_type": "code",
   "execution_count": null,
   "id": "9eab123b-0425-4be8-a277-26271ccfed7c",
   "metadata": {},
   "outputs": [],
   "source": [
    "0.9871 # Для kernel_size=8 и сокращения в 4 раза - лучший результат"
   ]
  },
  {
   "cell_type": "code",
   "execution_count": null,
   "id": "179fbcdc-71ef-49bd-b775-b547aeffd10b",
   "metadata": {},
   "outputs": [],
   "source": [
    "0.9776 # Для Для kernel_size=8 и сокращения в 5 раз"
   ]
  },
  {
   "cell_type": "code",
   "execution_count": 89,
   "id": "ccf52420-6b17-4f9e-8e2d-229baa2f6939",
   "metadata": {},
   "outputs": [
    {
     "name": "stdout",
     "output_type": "stream",
     "text": [
      "Лучший результат - 0.9871 был достигнут при out_channels=10, kernel_size=8 и сокращении в 4 раза\n"
     ]
    }
   ],
   "source": [
    "print(\"Лучший результат - 0.9871 был достигнут при out_channels=10, kernel_size=8 и сокращении в 4 раза\")"
   ]
  }
 ],
 "metadata": {
  "colab": {
   "provenance": []
  },
  "kernelspec": {
   "display_name": "Python 3 (ipykernel)",
   "language": "python",
   "name": "python3"
  },
  "language_info": {
   "codemirror_mode": {
    "name": "ipython",
    "version": 3
   },
   "file_extension": ".py",
   "mimetype": "text/x-python",
   "name": "python",
   "nbconvert_exporter": "python",
   "pygments_lexer": "ipython3",
   "version": "3.11.3"
  }
 },
 "nbformat": 4,
 "nbformat_minor": 5
}
